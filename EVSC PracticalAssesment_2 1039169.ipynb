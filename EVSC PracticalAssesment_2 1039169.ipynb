{
 "cells": [
  {
   "cell_type": "markdown",
   "metadata": {},
   "source": [
    "# Practical Assessment 2. Modeling and solving scheduling problems (50 pts)\n",
    "The University of Melbourne has bought a new supercomputer that will allow all their students and researchers to run complex simulations and programs to advance their research activities. Everyone wants to use it as it will accelerate the research process. To keep track and organize the supercomputer's access, the IT department has created an online form that requests the following information:\n",
    "\n",
    "- Researcher ID.\n",
    "- School.\n",
    "- Desired start time for the activity (Hour:Minute:Second).\n",
    "- Duration of the program (seconds).\n",
    "- School evaluation for the activity [1 - 10].\n",
    "\n",
    "The file Requests.csv contains all the different requests that the IT department has obtained for the first day. In this assessment, we will consider various scenarios, and you will assist them in selecting an adequate schedule.\n",
    "\n",
    "---"
   ]
  },
  {
   "cell_type": "markdown",
   "metadata": {},
   "source": [
    "### Question 1. (5 pts)\n",
    "Calculate the **finish time** for all the requests and append them as a new column with time format (e.g., '10:35:00') to the data frame you will obtain by reading the .csv file."
   ]
  },
  {
   "cell_type": "code",
   "execution_count": 209,
   "metadata": {},
   "outputs": [
    {
     "data": {
      "text/html": [
       "<div>\n",
       "<style scoped>\n",
       "    .dataframe tbody tr th:only-of-type {\n",
       "        vertical-align: middle;\n",
       "    }\n",
       "\n",
       "    .dataframe tbody tr th {\n",
       "        vertical-align: top;\n",
       "    }\n",
       "\n",
       "    .dataframe thead th {\n",
       "        text-align: right;\n",
       "    }\n",
       "</style>\n",
       "<table border=\"1\" class=\"dataframe\">\n",
       "  <thead>\n",
       "    <tr style=\"text-align: right;\">\n",
       "      <th></th>\n",
       "      <th>ID</th>\n",
       "      <th>School</th>\n",
       "      <th>Start</th>\n",
       "      <th>Finish</th>\n",
       "      <th>Duration</th>\n",
       "      <th>Evaluation</th>\n",
       "    </tr>\n",
       "  </thead>\n",
       "  <tbody>\n",
       "    <tr>\n",
       "      <th>0</th>\n",
       "      <td>354402</td>\n",
       "      <td>BioSciences</td>\n",
       "      <td>11:48:57</td>\n",
       "      <td>12:08:31</td>\n",
       "      <td>1174</td>\n",
       "      <td>10</td>\n",
       "    </tr>\n",
       "    <tr>\n",
       "      <th>1</th>\n",
       "      <td>293203</td>\n",
       "      <td>Mathematics and Stadistics</td>\n",
       "      <td>09:04:23</td>\n",
       "      <td>09:44:54</td>\n",
       "      <td>2431</td>\n",
       "      <td>2</td>\n",
       "    </tr>\n",
       "    <tr>\n",
       "      <th>2</th>\n",
       "      <td>462434</td>\n",
       "      <td>Physics</td>\n",
       "      <td>14:09:48</td>\n",
       "      <td>15:04:16</td>\n",
       "      <td>3268</td>\n",
       "      <td>2</td>\n",
       "    </tr>\n",
       "    <tr>\n",
       "      <th>3</th>\n",
       "      <td>382345</td>\n",
       "      <td>BioSciences</td>\n",
       "      <td>11:31:16</td>\n",
       "      <td>11:57:05</td>\n",
       "      <td>1549</td>\n",
       "      <td>6</td>\n",
       "    </tr>\n",
       "    <tr>\n",
       "      <th>4</th>\n",
       "      <td>287837</td>\n",
       "      <td>Geography</td>\n",
       "      <td>11:01:03</td>\n",
       "      <td>11:52:05</td>\n",
       "      <td>3062</td>\n",
       "      <td>7</td>\n",
       "    </tr>\n",
       "    <tr>\n",
       "      <th>...</th>\n",
       "      <td>...</td>\n",
       "      <td>...</td>\n",
       "      <td>...</td>\n",
       "      <td>...</td>\n",
       "      <td>...</td>\n",
       "      <td>...</td>\n",
       "    </tr>\n",
       "    <tr>\n",
       "      <th>95</th>\n",
       "      <td>628994</td>\n",
       "      <td>Ecosystem and Forest Sciences</td>\n",
       "      <td>13:44:19</td>\n",
       "      <td>14:05:40</td>\n",
       "      <td>1281</td>\n",
       "      <td>2</td>\n",
       "    </tr>\n",
       "    <tr>\n",
       "      <th>96</th>\n",
       "      <td>456146</td>\n",
       "      <td>Chemistry</td>\n",
       "      <td>11:33:59</td>\n",
       "      <td>12:30:02</td>\n",
       "      <td>3363</td>\n",
       "      <td>7</td>\n",
       "    </tr>\n",
       "    <tr>\n",
       "      <th>97</th>\n",
       "      <td>799436</td>\n",
       "      <td>Geography</td>\n",
       "      <td>12:02:03</td>\n",
       "      <td>12:21:04</td>\n",
       "      <td>1141</td>\n",
       "      <td>8</td>\n",
       "    </tr>\n",
       "    <tr>\n",
       "      <th>98</th>\n",
       "      <td>761301</td>\n",
       "      <td>Geography</td>\n",
       "      <td>13:22:45</td>\n",
       "      <td>14:02:22</td>\n",
       "      <td>2377</td>\n",
       "      <td>1</td>\n",
       "    </tr>\n",
       "    <tr>\n",
       "      <th>99</th>\n",
       "      <td>819524</td>\n",
       "      <td>Ecosystem and Forest Sciences</td>\n",
       "      <td>10:14:01</td>\n",
       "      <td>10:50:57</td>\n",
       "      <td>2216</td>\n",
       "      <td>8</td>\n",
       "    </tr>\n",
       "  </tbody>\n",
       "</table>\n",
       "<p>100 rows × 6 columns</p>\n",
       "</div>"
      ],
      "text/plain": [
       "        ID                         School     Start    Finish  Duration  \\\n",
       "0   354402                    BioSciences  11:48:57  12:08:31      1174   \n",
       "1   293203     Mathematics and Stadistics  09:04:23  09:44:54      2431   \n",
       "2   462434                        Physics  14:09:48  15:04:16      3268   \n",
       "3   382345                    BioSciences  11:31:16  11:57:05      1549   \n",
       "4   287837                      Geography  11:01:03  11:52:05      3062   \n",
       "..     ...                            ...       ...       ...       ...   \n",
       "95  628994  Ecosystem and Forest Sciences  13:44:19  14:05:40      1281   \n",
       "96  456146                      Chemistry  11:33:59  12:30:02      3363   \n",
       "97  799436                      Geography  12:02:03  12:21:04      1141   \n",
       "98  761301                      Geography  13:22:45  14:02:22      2377   \n",
       "99  819524  Ecosystem and Forest Sciences  10:14:01  10:50:57      2216   \n",
       "\n",
       "    Evaluation  \n",
       "0           10  \n",
       "1            2  \n",
       "2            2  \n",
       "3            6  \n",
       "4            7  \n",
       "..         ...  \n",
       "95           2  \n",
       "96           7  \n",
       "97           8  \n",
       "98           1  \n",
       "99           8  \n",
       "\n",
       "[100 rows x 6 columns]"
      ]
     },
     "execution_count": 209,
     "metadata": {},
     "output_type": "execute_result"
    }
   ],
   "source": [
    "import pandas as pd\n",
    "\n",
    "# Function to convert a string %H:%M:%S to seconds\n",
    "def Time2Sec(string):\n",
    "    # We separate the string using the character ':'\n",
    "    t = string.split(':')\n",
    "    seconds = (int(t[0]) * 3600) + (int(t[1]) * 60) + int(t[2])\n",
    "    return (seconds)\n",
    "\n",
    "# Function to convert seconds to a string %H:%M:%S\n",
    "def Sec2Time(sec):\n",
    "    # Convert to %H:%M:%S\n",
    "    seconds = sec % (24 * 3600) \n",
    "    hours = seconds // 3600\n",
    "    seconds %= 3600\n",
    "    minutes = seconds // 60\n",
    "    seconds %= 60\n",
    "    string = \"{:02d}:{:02d}:{:02d}\".format(hours, minutes, seconds)\n",
    "    return(string)\n",
    "\n",
    "data = pd.read_csv(\"Requests.csv\")\n",
    "\n",
    "finish = []\n",
    "# iterate through the data, and find the finish time by adding duration to start time\n",
    "for i in range(0, len(data)):\n",
    "    start_time = data.at[i, 'Start']\n",
    "    start_time = Time2Sec(start_time)\n",
    "    \n",
    "    duration = data.at[i, 'Duration']\n",
    "    \n",
    "    finish_time = start_time + duration\n",
    "    finish_time = Sec2Time(finish_time)\n",
    "    finish.append(finish_time)\n",
    "    \n",
    "data.insert(3, 'Finish', finish)\n",
    "data"
   ]
  },
  {
   "cell_type": "markdown",
   "metadata": {},
   "source": [
    " "
   ]
  },
  {
   "cell_type": "markdown",
   "metadata": {},
   "source": [
    "### Question 2. (5 pts)\n",
    "There are too many petitions on the list, and it is impossible to execute all of them. You need to maximize the number of petitions that will be executed this day **without considering the school's evaluation criteria**. How many petitions will be executed? "
   ]
  },
  {
   "cell_type": "code",
   "execution_count": 210,
   "metadata": {},
   "outputs": [
    {
     "name": "stdout",
     "output_type": "stream",
     "text": [
      "17 petitions will be executed\n"
     ]
    }
   ],
   "source": [
    "# Sort dataframe by Finish time\n",
    "data.sort_values(by = ['Finish'], inplace = True, ascending = True)\n",
    "data = data.reset_index(drop = True)\n",
    "\n",
    "# Insert the first petition into a list\n",
    "accepted = []\n",
    "accepted.append(data.at[0, 'Finish'])\n",
    "\n",
    "# compare each start time to the last accepted finish time\n",
    "# if start time is after finish time, accept\n",
    "for i in range(1, len(data)):\n",
    "    start_time = data.at[i, 'Start']\n",
    "    start_time = Time2Sec(start_time)\n",
    "    \n",
    "    finish_time = accepted[-1]\n",
    "    finish_time = Time2Sec(finish_time)\n",
    "    \n",
    "    if (start_time >= finish_time):\n",
    "        accepted.append(data.at[i, 'Finish'])\n",
    "\n",
    "print(len(accepted), \"petitions will be executed\")"
   ]
  },
  {
   "cell_type": "markdown",
   "metadata": {},
   "source": [
    " "
   ]
  },
  {
   "cell_type": "markdown",
   "metadata": {},
   "source": [
    "### Question 3. (5 pts)\n",
    "In Question 2 you have calculated the total number of petitions that can be executed in one day. Which researchers will get a slot to run their simulations? Generate a list with the Researcher ID of the researchers that will get a slot."
   ]
  },
  {
   "cell_type": "code",
   "execution_count": 211,
   "metadata": {},
   "outputs": [
    {
     "name": "stdout",
     "output_type": "stream",
     "text": [
      "[530699, 375872, 192389, 751308, 819524, 832310, 566773, 684776, 498150, 982043, 652802, 841320, 939727, 126427, 610274, 778723]\n"
     ]
    }
   ],
   "source": [
    "# Sort dataframe by Finish time\n",
    "data.sort_values(by = ['Finish'], inplace = True, ascending = True)\n",
    "data = data.reset_index(drop = True)\n",
    "\n",
    "# Insert the first petition into a list\n",
    "accepted = []\n",
    "accepted_ID = []\n",
    "accepted.append(data.at[0, 'Finish'])\n",
    "\n",
    "# compare each start time to the last accepted finish time\n",
    "# if start time is after finish time, accept\n",
    "for i in range(1, len(data)):\n",
    "    start_time = data.at[i, 'Start']\n",
    "    start_time = Time2Sec(start_time)\n",
    "    \n",
    "    finish_time = accepted[-1]\n",
    "    finish_time = Time2Sec(finish_time)\n",
    "    \n",
    "    if (start_time >= finish_time):\n",
    "        accepted_ID.append(data.at[i, 'ID'])\n",
    "        accepted.append(data.at[i, 'Finish'])\n",
    "\n",
    "print(accepted_ID)# Type your code here"
   ]
  },
  {
   "cell_type": "markdown",
   "metadata": {},
   "source": [
    " "
   ]
  },
  {
   "cell_type": "markdown",
   "metadata": {},
   "source": [
    "### Question 4. (5 pts)\n",
    "We define p(j) as the largest index i < j such that job i is compatible with j. Calculate the p-value for each of the data frame jobs and append this information as a new column. **Remember that before calculating the p-value, we need to sort the data frame in a particular way**. Also, it is important to note that the first request will have index 0 in Python. One solution to deal with this issue could be to use a different number (e.g., -1) to refer to the jobs that have not compatible jobs before them."
   ]
  },
  {
   "cell_type": "code",
   "execution_count": 212,
   "metadata": {},
   "outputs": [],
   "source": [
    "# Note: We know that the first request does not have a compatible request before it, so we initialize the p list with -1 for the request 0, \n",
    "# and we start analyzing from request 1\n",
    "p = [-1] \n",
    "\n",
    "for i in range(1, len(data)):\n",
    "    start_time = data.at[i, 'Start']\n",
    "    start_time = Time2Sec(start_time)\n",
    "    \n",
    "    # compare the current start time to the previous finish time,\n",
    "    # if prev_time > start_time, append the index to p\n",
    "    for j in range(i-1, -1, -1):\n",
    "        prev_time = data.at[j, 'Finish']\n",
    "        prev_time = Time2Sec(prev_time)\n",
    "        \n",
    "        if start_time >= prev_time:\n",
    "            p.append(j)\n",
    "            break\n",
    "\n",
    "#print(p==p_help)\n",
    "data.insert(6, 'p(j)', p)"
   ]
  },
  {
   "cell_type": "markdown",
   "metadata": {},
   "source": [
    " "
   ]
  },
  {
   "cell_type": "markdown",
   "metadata": {},
   "source": [
    "### Question 5. (5 pts)\n",
    "Instead of maximizing just the number of petitions executed in one day, the University wants to consider also the importance of the research work evaluating all the petitions from 1 to 10. In this scenario, what is the maximum value (weight) that we would be able to obtain? "
   ]
  },
  {
   "cell_type": "code",
   "execution_count": 213,
   "metadata": {},
   "outputs": [
    {
     "name": "stdout",
     "output_type": "stream",
     "text": [
      "Maximum value (weight) that we would be able to obtain is 106\n"
     ]
    }
   ],
   "source": [
    "# Type your code here (Hint: bottom-up approach would be easier to codify)\n",
    "\n",
    "# In case you couldn't solve the previous question, you can use the following array, where -1 means that there are not compatible \n",
    "# jobs before them. Note that it has been calculated with the jobs sorted in a specific way.\n",
    "p_help = [-1, 0, 1, 1, 3, 3, 3, 3, 3, 5, 5, 8, 6, 8, 5, 6, 6, 5, 6, 8, 12, 17, 9, 17, 12, 11, 20, 20, 17, \n",
    "         17, 26, 23, 28, 20, 30, 23, 23, 30, 30, 31, 29, 33, 38, 38, 40, 30, 38, 32, 32, 38, 41, 31, 33, \n",
    "         33, 32, 38, 41, 56, 52, 56, 56, 57, 55, 57, 56, 57, 57, 59, 56, 59, 60, 56, 57, 59, 60, 71, 60, \n",
    "         61, 72, 65, 61, 73, 69, 73, 77, 70, 69, 74, 80, 81, 73, 81, 78, 81, 82, 92, 94, 95, 97, 97]\n",
    "\n",
    "OPT = [0]\n",
    "chosen_requests = []\n",
    "for i in range(0, len(data)):\n",
    "    pj = data.at[i, 'p(j)']\n",
    "    \n",
    "    optPJ = OPT[pj]\n",
    "    curr_value = data.at[i, 'Evaluation']\n",
    "    \n",
    "    # Since OPT has an extra value 0 at the beginnning, we use OPT[i] instead of OPT[i-1]\n",
    "    chosen = max(curr_value + optPJ, OPT[i])\n",
    "    OPT.append(chosen)\n",
    "\n",
    "print(\"Maximum value (weight) that we would be able to obtain is\", max(OPT))\n",
    "#print(OPT)"
   ]
  },
  {
   "cell_type": "markdown",
   "metadata": {},
   "source": [
    " "
   ]
  },
  {
   "cell_type": "markdown",
   "metadata": {},
   "source": [
    "### Question 6. (7.5 pts)\n",
    "In Question 5 you have calculated the total value (weight) that you can obtain in one day. Which researchers will get a slot to run their simulations? Generate a list with the Researcher ID of the researchers that will get a slot."
   ]
  },
  {
   "cell_type": "code",
   "execution_count": 214,
   "metadata": {},
   "outputs": [
    {
     "name": "stdout",
     "output_type": "stream",
     "text": [
      "[778723, 126427, 690633, 160158, 286979, 982043, 959617, 919052, 566773, 168373, 987167, 344653, 375872, 197362]\n"
     ]
    }
   ],
   "source": [
    "def find_solution(j):\n",
    "    i = j-1\n",
    "    pj = data.at[i, 'p(j)']\n",
    "    if i==0:\n",
    "        return 0\n",
    "    elif ((data.at[i, 'Evaluation'] + OPT[pj]) > OPT[i]):\n",
    "        count = data.at[i, 'Evaluation']\n",
    "        id.append(data.at[i, 'ID'])\n",
    "        find_solution(pj)\n",
    "    else:\n",
    "        find_solution(i)\n",
    "        \n",
    "id = []\n",
    "find_solution(len(OPT)-1)\n",
    "id.append(data.at[0, 'ID'])\n",
    "print(id)"
   ]
  },
  {
   "cell_type": "markdown",
   "metadata": {},
   "source": [
    "### Question 7. (5 pts)\n",
    "We have installed a software that will allow us to create multiple execution threads. With this new software, we will be able to execute various programs simultaneously in the supercomputer. What is the minimum number of threads will we need to schedule all the programs?"
   ]
  },
  {
   "cell_type": "code",
   "execution_count": 228,
   "metadata": {},
   "outputs": [
    {
     "name": "stdout",
     "output_type": "stream",
     "text": [
      "16 threads needed to schedule all the programs.\n"
     ]
    }
   ],
   "source": [
    "data.sort_values(by = ['Start'], inplace = True, ascending = True)\n",
    "data = data.reset_index(drop = True)\n",
    "\n",
    "num_thread = 1\n",
    "finish_time = data.at[0, 'Finish']\n",
    "finish_time = Time2Sec(finish_time)\n",
    "\n",
    "# insert the earliest section into the first thread\n",
    "# thread_dict = {thread number: finish time}\n",
    "thread_dict = {1:finish_time}\n",
    "\n",
    "for i in range(1, len(data)):\n",
    "    start_time = data.at[i, 'Start']\n",
    "    start_time = Time2Sec(start_time)\n",
    "    \n",
    "    finish_time = data.at[i, 'Finish']\n",
    "    finish_time = Time2Sec(finish_time)\n",
    "    \n",
    "    # find the earliest finish time\n",
    "    earliest_finish = thread_dict[1]\n",
    "    thread = 1\n",
    "    for j in range(1,len(thread_dict)+1):\n",
    "        if thread_dict[j] < earliest_finish:\n",
    "            earliest_finish = thread_dict[j]\n",
    "            thread = j\n",
    "    \n",
    "    if earliest_finish < start_time:\n",
    "        thread_dict[thread] = finish_time\n",
    "        \n",
    "    else:\n",
    "        thread_dict[len(thread_dict)+1] = finish_time\n",
    "        num_thread += 1\n",
    "\n",
    "print(num_thread, \"threads needed to schedule all the programs.\")"
   ]
  },
  {
   "cell_type": "markdown",
   "metadata": {},
   "source": [
    "### Question 8. (7.5 pts) \n",
    "Which tasks are scheduled in each thread of question 7?"
   ]
  },
  {
   "cell_type": "code",
   "execution_count": 229,
   "metadata": {},
   "outputs": [
    {
     "name": "stdout",
     "output_type": "stream",
     "text": [
      "[197362, 530699, 375872, 192389, 125035, 131295, 619863, 650940, 286979, 160158, 965302] is scheduled in thread number 1\n",
      "[460847, 344653, 459051, 398010, 686441, 169844, 246638, 421682, 778723] is scheduled in thread number 2\n",
      "[688568, 987167, 168373, 566773, 919052, 369672, 982043, 474559, 395041] is scheduled in thread number 3\n",
      "[293203, 223827, 832310, 684776, 498150, 437870, 393104, 376795] is scheduled in thread number 4\n",
      "[642824, 498335, 124449, 225285, 370963, 267579, 628994, 610274] is scheduled in thread number 5\n",
      "[751308, 150793, 592789, 957455, 131435, 833943, 520121] is scheduled in thread number 6\n",
      "[417863, 765873, 582948, 459958, 529331, 827348] is scheduled in thread number 7\n",
      "[289300, 819524, 683221, 456146, 665146, 853019] is scheduled in thread number 8\n",
      "[138771, 180149, 287837, 799436, 513237, 761301, 126427] is scheduled in thread number 9\n",
      "[201974, 203359, 382345, 934569, 494532, 798361] is scheduled in thread number 10\n",
      "[134574, 752648, 842008, 631338, 825496] is scheduled in thread number 11\n",
      "[862581, 140141, 393556, 690633] is scheduled in thread number 12\n",
      "[393618, 652802, 656628, 894344] is scheduled in thread number 13\n",
      "[354402, 959617, 762691, 841320, 363805] is scheduled in thread number 14\n",
      "[467262, 361114, 939727] is scheduled in thread number 15\n",
      "[302840, 462434] is scheduled in thread number 16\n"
     ]
    }
   ],
   "source": [
    "data.sort_values(by = ['Start'], inplace = True, ascending = True)\n",
    "data = data.reset_index(drop = True)\n",
    "\n",
    "num_thread = 1\n",
    "finish_time = data.at[0, 'Finish']\n",
    "finish_time = Time2Sec(finish_time)\n",
    "\n",
    "# insert the earliest section into the first thread\n",
    "# thread_dict = {thread number: finish time}\n",
    "thread_dict = {1:finish_time}\n",
    "thread_id = {1:[data.at[0,'ID']]}\n",
    "\n",
    "for i in range(1, len(data)):\n",
    "    start_time = data.at[i, 'Start']\n",
    "    start_time = Time2Sec(start_time)\n",
    "    \n",
    "    finish_time = data.at[i, 'Finish']\n",
    "    finish_time = Time2Sec(finish_time)\n",
    "    \n",
    "    # find the earliest finish time\n",
    "    earliest_finish = thread_dict[1]\n",
    "    thread = 1\n",
    "    for j in range(1,len(thread_dict)+1):\n",
    "        if thread_dict[j] < earliest_finish:\n",
    "            earliest_finish = thread_dict[j]\n",
    "            thread = j\n",
    "\n",
    "    if earliest_finish < start_time:\n",
    "        thread_dict[thread] = finish_time\n",
    "        thread_id[thread].append(data.at[i,'ID'])\n",
    "        \n",
    "    else:\n",
    "        thread_dict[len(thread_dict)+1] = finish_time\n",
    "        num_thread += 1\n",
    "        thread_id[len(thread_id)+1] = [data.at[i, 'ID']]\n",
    "        \n",
    "for thread in thread_id.items():\n",
    "    print(\"{} is scheduled in thread number {}\".format(thread[1],thread[0]))"
   ]
  },
  {
   "cell_type": "markdown",
   "metadata": {},
   "source": [
    " "
   ]
  },
  {
   "cell_type": "markdown",
   "metadata": {},
   "source": [
    "### Question 9. (5 pts)\n",
    "Create a bar graph to represent the number of programs running on the supercomputer per hour if you have an unlimited number of threads to execute all of them. It would be best if you considered the start time and duration of each job to correctly compute how much programs are executed in an interval of time. Which conclusions do you extract from this graph? Which guidelines should the IT department recommend to have regular use of the computer instead of short periods of high occupation?"
   ]
  },
  {
   "cell_type": "code",
   "execution_count": 217,
   "metadata": {},
   "outputs": [
    {
     "data": {
      "image/png": "[encoded data removed]",
      "text/plain": [
       "<Figure size 432x288 with 1 Axes>"
      ]
     },
     "metadata": {},
     "output_type": "display_data"
    }
   ],
   "source": [
    "import math\n",
    "import matplotlib.pyplot as plt\n",
    "import numpy as np\n",
    "\n",
    "# Create an hours variable and increment +1 the hours that have a program in execution\n",
    "hours = np.zeros(24)\n",
    "for i in range(0, len(data)):\n",
    "    start = data.at[i, 'Start']\n",
    "    start = Time2Sec(start)\n",
    "    \n",
    "    duration = data.at[i,'Duration']\n",
    "    finish = start + duration\n",
    "    \n",
    "    start = start/3600\n",
    "    finish = finish/3600\n",
    "    \n",
    "    # round down the start time and round up the finish time\n",
    "    hours[math.floor(start):math.ceil(finish)] += 1\n",
    "    \n",
    "# Using the graph function we can create the figure\n",
    "plt.style.use('ggplot')\n",
    "plt.bar(range(0, 24), hours, color='#0099ff', alpha=0.7)\n",
    "plt.grid(axis='y', alpha=0.75)\n",
    "plt.xlabel('Time')\n",
    "plt.ylabel('Number of Programs Running')\n",
    "plt.title('Number of Programs Running Every Hour')\n",
    "plt.show()"
   ]
  },
  {
   "cell_type": "markdown",
   "metadata": {},
   "source": [
    "Response: We can see from the bar chart that most people requests to use the supercomputer between 11am to 2pm, whereas there are only a few people who wants to use the supercomputer between 6am to 10am and 2pm to 5pm.\n",
    "The IT department can set up a booking list for the university and allows a certain number of users to book and use the supercomputer at certain times.\n",
    "For example, a user can book the supercomputer for 3 hours maximum, and each hour only 10 users are allowed to use the supercomputer."
   ]
  }
 ],
 "metadata": {
  "kernelspec": {
   "display_name": "Python 3",
   "language": "python",
   "name": "python3"
  },
  "language_info": {
   "codemirror_mode": {
    "name": "ipython",
    "version": 3
   },
   "file_extension": ".py",
   "mimetype": "text/x-python",
   "name": "python",
   "nbconvert_exporter": "python",
   "pygments_lexer": "ipython3",
   "version": "3.7.5"
  }
 },
 "nbformat": 4,
 "nbformat_minor": 4
}
